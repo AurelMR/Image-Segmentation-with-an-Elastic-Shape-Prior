{
 "cells": [
  {
   "cell_type": "code",
   "execution_count": 1,
   "metadata": {
    "executionInfo": {
     "elapsed": 2151,
     "status": "ok",
     "timestamp": 1617178355740,
     "user": {
      "displayName": "Aurélien Houdbert",
      "photoUrl": "https://lh3.googleusercontent.com/a-/AOh14GiC5IMv7-_P0TPgcMtb6Wq8rRrMC_U6BLG3zX_Y2g=s64",
      "userId": "12124528507416782011"
     },
     "user_tz": -120
    },
    "id": "Oh4A0VXl76fV"
   },
   "outputs": [],
   "source": [
    "import numpy as np"
   ]
  },
  {
   "cell_type": "markdown",
   "metadata": {
    "id": "nx0tcECeerwc"
   },
   "source": [
    "# Shapes"
   ]
  },
  {
   "cell_type": "markdown",
   "metadata": {
    "id": "rZD6YPVRfAUf"
   },
   "source": [
    "#### Random Shape"
   ]
  },
  {
   "cell_type": "code",
   "execution_count": 18,
   "metadata": {
    "id": "_MswZQsRL43F"
   },
   "outputs": [],
   "source": [
    "# Random Shape\n",
    "\n",
    "Shape_array = np.array([[0, 0, 0, 0, 0, 0, 0, 0, 0, 0],\n",
    "                        [0, 0, 0, 0, 1, 1, 0, 0, 0, 0],\n",
    "                        [0, 0, 0, 1, 0, 0, 1, 0, 0, 0],\n",
    "                        [0, 0, 1, 0, 0, 0, 1, 0, 0, 0],\n",
    "                        [0, 1, 0, 0, 0, 0, 1, 0, 0, 0],\n",
    "                        [0, 1, 0, 0, 0, 1, 0, 0, 0, 0],\n",
    "                        [0, 1, 0, 0, 0, 0, 1, 0, 0, 0],\n",
    "                        [0, 1, 1, 1, 1, 1, 1, 0, 0, 0],\n",
    "                        [0, 0, 0, 0, 0, 0, 0, 0, 0, 0],\n",
    "                        [0, 0, 0, 0, 0, 0, 0, 0, 0, 0]])\n",
    "\n",
    "Shape       = np.array([[4, 1],\n",
    "                        [5, 1],\n",
    "                        [6, 1],\n",
    "                        [7, 1],\n",
    "                        [7, 2],\n",
    "                        [7, 3],\n",
    "                        [7, 4],\n",
    "                        [7, 5],\n",
    "                        [7, 6],\n",
    "                        [6, 6],\n",
    "                        [5, 5],\n",
    "                        [4, 6],\n",
    "                        [3, 6],\n",
    "                        [2, 6],\n",
    "                        [1, 5],\n",
    "                        [1, 4],\n",
    "                        [2, 3],\n",
    "                        [3, 2]])\n",
    "\n",
    "image       = np.array([[0, 0, 0, 0, 0, 0, 0, 0, 0, 0],\n",
    "                        [0, 0, 0, 0, 1, 1, 0, 0, 0, 0],\n",
    "                        [0, 0, 0, 1, 1, 1, 1, 0, 0, 0],\n",
    "                        [0, 0, 1, 1, 1, 1, 1, 0, 0, 0],\n",
    "                        [0, 1, 1, 1, 1, 1, 1, 0, 0, 0],\n",
    "                        [0, 1, 1, 1, 1, 1, 0, 0, 0, 0],\n",
    "                        [0, 1, 1, 1, 1, 1, 1, 0, 0, 0],\n",
    "                        [0, 1, 1, 1, 1, 1, 1, 0, 0, 0],\n",
    "                        [0, 0, 0, 0, 0, 0, 0, 0, 0, 0],\n",
    "                        [0, 0, 0, 0, 0, 0, 0, 0, 0, 0]])"
   ]
  },
  {
   "cell_type": "markdown",
   "metadata": {
    "id": "6b8yGfwvfCpo"
   },
   "source": [
    "#### Square 10 10"
   ]
  },
  {
   "cell_type": "code",
   "execution_count": 4,
   "metadata": {
    "id": "XaWfZfVJmVt0"
   },
   "outputs": [],
   "source": [
    "# Square\n",
    "\n",
    "Shape_array = np.array([[0, 0, 0, 0, 0, 0, 0, 0, 0, 0],\n",
    "                        [0, 0, 0, 0, 0, 0, 0, 0, 0, 0],\n",
    "                        [0, 0, 1, 1, 1, 1, 1, 1, 0, 0],\n",
    "                        [0, 0, 1, 0, 0, 0, 0, 1, 0, 0],\n",
    "                        [0, 0, 1, 0, 0, 0, 0, 1, 0, 0],\n",
    "                        [0, 0, 1, 0, 0, 0, 0, 1, 0, 0],\n",
    "                        [0, 0, 1, 0, 0, 0, 0, 1, 0, 0],\n",
    "                        [0, 0, 1, 1, 1, 1, 1, 1, 0, 0],\n",
    "                        [0, 0, 0, 0, 0, 0, 0, 0, 0, 0],\n",
    "                        [0, 0, 0, 0, 0, 0, 0, 0, 0, 0]])\n",
    "\n",
    "Shape       = np.array([[2, 2],\n",
    "                        [2, 3],\n",
    "                        [2, 4],\n",
    "                        [2, 5],\n",
    "                        [2, 6],\n",
    "                        [2, 7],\n",
    "                        [3, 7],\n",
    "                        [4, 7],\n",
    "                        [5, 7],\n",
    "                        [6, 7],\n",
    "                        [7, 7],\n",
    "                        [7, 6],\n",
    "                        [7, 5],\n",
    "                        [7, 4],\n",
    "                        [7, 3],\n",
    "                        [7, 2],\n",
    "                        [6, 2],\n",
    "                        [5, 2],\n",
    "                        [4, 2],\n",
    "                        [3, 2]])\n",
    "\n",
    "Shape = Shape[::-1]\n",
    "\n",
    "image       = np.array([[0, 0, 0, 0, 0, 0, 0, 0, 0, 0],\n",
    "                        [0, 0, 0, 0, 0, 0, 0, 0, 0, 0],\n",
    "                        [0, 0, 1, 1, 1, 1, 1, 1, 0, 0],\n",
    "                        [0, 0, 1, 1, 1, 1, 1, 1, 0, 0],\n",
    "                        [0, 0, 1, 1, 1, 1, 1, 1, 0, 0],\n",
    "                        [0, 0, 1, 1, 1, 1, 1, 1, 0, 0],\n",
    "                        [0, 0, 1, 1, 1, 1, 1, 1, 0, 0],\n",
    "                        [0, 0, 1, 1, 1, 1, 1, 1, 0, 0],\n",
    "                        [0, 0, 0, 0, 0, 0, 0, 0, 0, 0],\n",
    "                        [0, 0, 0, 0, 0, 0, 0, 0, 0, 0]])"
   ]
  },
  {
   "cell_type": "code",
   "execution_count": 5,
   "metadata": {
    "id": "aKUapk_njGTt"
   },
   "outputs": [],
   "source": [
    "# Small Square\n",
    "\n",
    "Shape_array = np.array([[0, 0, 0, 0, 0, 0, 0, 0, 0, 0],\n",
    "                        [0, 0, 0, 0, 0, 0, 0, 0, 0, 0],\n",
    "                        [0, 0, 1, 1, 1, 1, 1, 1, 0, 0],\n",
    "                        [0, 0, 1, 0, 0, 0, 0, 1, 0, 0],\n",
    "                        [0, 0, 1, 0, 0, 0, 0, 1, 0, 0],\n",
    "                        [0, 0, 1, 0, 0, 0, 0, 1, 0, 0],\n",
    "                        [0, 0, 1, 0, 0, 0, 0, 1, 0, 0],\n",
    "                        [0, 0, 1, 1, 1, 1, 1, 1, 0, 0],\n",
    "                        [0, 0, 0, 0, 0, 0, 0, 0, 0, 0],\n",
    "                        [0, 0, 0, 0, 0, 0, 0, 0, 0, 0]])\n",
    "\n",
    "Shape       = np.array([[2, 2],\n",
    "                        [2, 3],\n",
    "                        [2, 4],\n",
    "                        [2, 5],\n",
    "                        [2, 6],\n",
    "                        [2, 7],\n",
    "                        [3, 7],\n",
    "                        [4, 7],\n",
    "                        [5, 7],\n",
    "                        [6, 7],\n",
    "                        [7, 7],\n",
    "                        [7, 6],\n",
    "                        [7, 5],\n",
    "                        [7, 4],\n",
    "                        [7, 3],\n",
    "                        [7, 2],\n",
    "                        [6, 2],\n",
    "                        [5, 2],\n",
    "                        [4, 2],\n",
    "                        [3, 2]])\n",
    "\n",
    "Shape = Shape[::-1]\n",
    "\n",
    "image       = np.array([[0, 0, 0, 0, 0, 0, 0, 0, 0, 0],\n",
    "                        [0, 0, 0, 0, 0, 0, 0, 0, 0, 0],\n",
    "                        [0, 0, 0, 0, 0, 0, 0, 0, 0, 0],\n",
    "                        [0, 0, 0, 1, 1, 1, 1, 0, 0, 0],\n",
    "                        [0, 0, 0, 1, 1, 1, 1, 0, 0, 0],\n",
    "                        [0, 0, 0, 1, 1, 1, 1, 0, 0, 0],\n",
    "                        [0, 0, 0, 1, 1, 1, 1, 0, 0, 0],\n",
    "                        [0, 0, 0, 0, 0, 0, 0, 0, 0, 0],\n",
    "                        [0, 0, 0, 0, 0, 0, 0, 0, 0, 0],\n",
    "                        [0, 0, 0, 0, 0, 0, 0, 0, 0, 0]])"
   ]
  },
  {
   "cell_type": "markdown",
   "metadata": {
    "id": "Sn-8sAyKfF8G"
   },
   "source": [
    "#### Any size square"
   ]
  },
  {
   "cell_type": "code",
   "execution_count": 6,
   "metadata": {
    "executionInfo": {
     "elapsed": 2141,
     "status": "ok",
     "timestamp": 1617178355743,
     "user": {
      "displayName": "Aurélien Houdbert",
      "photoUrl": "https://lh3.googleusercontent.com/a-/AOh14GiC5IMv7-_P0TPgcMtb6Wq8rRrMC_U6BLG3zX_Y2g=s64",
      "userId": "12124528507416782011"
     },
     "user_tz": -120
    },
    "id": "7Mr87Bn0-b0l"
   },
   "outputs": [],
   "source": [
    "import numpy as np\n",
    "import matplotlib.pyplot as plt\n",
    "\n",
    "def create_square(size, length, start, fill = False):\n",
    "  square = np.zeros((size, size))\n",
    "  if fill:\n",
    "    square[start[0]: start[0] + length, start[1]: start[1] + length] = 1\n",
    "  else:\n",
    "    square[start[0]: start[0] + length, start[1]] = 1\n",
    "    square[start[0]: start[0] + length, start[1] + length - 1] = 1\n",
    "    square[start[0], start[1]: start[1] + length] = 1\n",
    "    square[start[0] + length - 1, start[1]: start[1] + length] = 1\n",
    "  return square"
   ]
  },
  {
   "cell_type": "code",
   "execution_count": 7,
   "metadata": {
    "executionInfo": {
     "elapsed": 2135,
     "status": "ok",
     "timestamp": 1617178355744,
     "user": {
      "displayName": "Aurélien Houdbert",
      "photoUrl": "https://lh3.googleusercontent.com/a-/AOh14GiC5IMv7-_P0TPgcMtb6Wq8rRrMC_U6BLG3zX_Y2g=s64",
      "userId": "12124528507416782011"
     },
     "user_tz": -120
    },
    "id": "Use9KQivAd9h"
   },
   "outputs": [],
   "source": [
    "def create_shape_path(start, length):\n",
    "  Shape = np.empty((0, 2), dtype=np.int)\n",
    "  for i in range(length):\n",
    "    s = np.array([start[0] + i, start[1]], dtype=np.int)\n",
    "    Shape = np.vstack((Shape, s))\n",
    "  for i in range(1, length):\n",
    "    s = np.array([start[0] + length - 1, start[1] + i], dtype=np.int)\n",
    "    Shape = np.vstack((Shape, s))\n",
    "  for i in range(1, length):\n",
    "    s = np.array([start[0] + length - 1 - i, start[1]+ length - 1], dtype=np.int)\n",
    "    Shape = np.vstack((Shape, s))\n",
    "  for i in range(1, length - 1):\n",
    "    s = np.array([start[0], start[1] + length - 1 - i], dtype=np.int)\n",
    "    Shape = np.vstack((Shape, s))\n",
    "  return Shape"
   ]
  },
  {
   "cell_type": "code",
   "execution_count": 8,
   "metadata": {
    "executionInfo": {
     "elapsed": 736,
     "status": "ok",
     "timestamp": 1617180634072,
     "user": {
      "displayName": "Aurélien Houdbert",
      "photoUrl": "https://lh3.googleusercontent.com/a-/AOh14GiC5IMv7-_P0TPgcMtb6Wq8rRrMC_U6BLG3zX_Y2g=s64",
      "userId": "12124528507416782011"
     },
     "user_tz": -120
    },
    "id": "WPyCqt_vBkDf"
   },
   "outputs": [],
   "source": [
    "Shape_array = create_square(10, 8, (1,1), fill=False)\n",
    "image = create_square(10, 8, (1, 1), fill=True)\n",
    "Shape = create_shape_path((1,1), 8)"
   ]
  },
  {
   "cell_type": "code",
   "execution_count": 9,
   "metadata": {
    "colab": {
     "base_uri": "https://localhost:8080/",
     "height": 282
    },
    "executionInfo": {
     "elapsed": 1062,
     "status": "ok",
     "timestamp": 1617180635822,
     "user": {
      "displayName": "Aurélien Houdbert",
      "photoUrl": "https://lh3.googleusercontent.com/a-/AOh14GiC5IMv7-_P0TPgcMtb6Wq8rRrMC_U6BLG3zX_Y2g=s64",
      "userId": "12124528507416782011"
     },
     "user_tz": -120
    },
    "id": "uy2RsvEwPdUe",
    "outputId": "80ee8fad-b3bc-4632-d816-7de82e1606dd"
   },
   "outputs": [
    {
     "data": {
      "text/plain": [
       "<matplotlib.image.AxesImage at 0x1cdbad47688>"
      ]
     },
     "execution_count": 9,
     "metadata": {},
     "output_type": "execute_result"
    },
    {
     "data": {
      "image/png": "[encoded data removed]",
      "text/plain": [
       "<Figure size 432x288 with 1 Axes>"
      ]
     },
     "metadata": {
      "needs_background": "light"
     },
     "output_type": "display_data"
    }
   ],
   "source": [
    "plt.imshow(Shape_array)"
   ]
  },
  {
   "cell_type": "markdown",
   "metadata": {
    "id": "iUrJCiguev9v"
   },
   "source": [
    "# Functions"
   ]
  },
  {
   "cell_type": "code",
   "execution_count": 10,
   "metadata": {
    "executionInfo": {
     "elapsed": 1179,
     "status": "ok",
     "timestamp": 1617180639761,
     "user": {
      "displayName": "Aurélien Houdbert",
      "photoUrl": "https://lh3.googleusercontent.com/a-/AOh14GiC5IMv7-_P0TPgcMtb6Wq8rRrMC_U6BLG3zX_Y2g=s64",
      "userId": "12124528507416782011"
     },
     "user_tz": -120
    },
    "id": "Hf391IEovjOt"
   },
   "outputs": [],
   "source": [
    "# Aurélien\n",
    "# Angle calculé par rapport à l'horizontal\n",
    "def tangent_angle(Shape, s):\n",
    "  \"\"\"\n",
    "  Computes the tangent angle at point 's' in shape 'Shape' (in rad)\n",
    "  Idea: try to use the two adjacent points to build a vector and compute angle with horizontal\n",
    "\n",
    "  \"\"\"\n",
    "  prev_s = Shape[s]\n",
    "  next_s = Shape[(s + 1) % len(Shape)]\n",
    "  \n",
    "\n",
    "  cos = np.sum((next_s - prev_s) * np.array([0, 1]))/np.linalg.norm(next_s - prev_s)\n",
    "  sin = np.sum((next_s - prev_s) * np.array([1, 0]))/np.linalg.norm(next_s - prev_s)\n",
    "  if cos == 0:\n",
    "    return np.sign(sin) * np.pi/2\n",
    "  if sin == 0:\n",
    "    if cos > 0:\n",
    "      return 0\n",
    "    else:\n",
    "      return np.pi\n",
    "\n",
    "  angle = np.arctan(sin/cos)\n",
    "\n",
    "  if cos < 0:\n",
    "    angle = angle + np.pi\n",
    "  #angle = np.sign(cos) * np.arccos(cos)\n",
    "  return angle"
   ]
  },
  {
   "cell_type": "code",
   "execution_count": 11,
   "metadata": {
    "executionInfo": {
     "elapsed": 727,
     "status": "ok",
     "timestamp": 1617180639761,
     "user": {
      "displayName": "Aurélien Houdbert",
      "photoUrl": "https://lh3.googleusercontent.com/a-/AOh14GiC5IMv7-_P0TPgcMtb6Wq8rRrMC_U6BLG3zX_Y2g=s64",
      "userId": "12124528507416782011"
     },
     "user_tz": -120
    },
    "id": "BVPvCdl7waX0"
   },
   "outputs": [],
   "source": [
    "# Aurélien\n",
    "def phi_angle(p, q):\n",
    "  \"\"\"\n",
    "  Computes the angle between two vectors p and q (in rad)\n",
    "\n",
    "  \"\"\"\n",
    "  cos = np.sum((q - p) * np.array([0, 1]))/np.linalg.norm(q - p)\n",
    "  sin = np.sum((q - p) * np.array([1, 0]))/np.linalg.norm(q - p)\n",
    "  if cos == 0:\n",
    "    return np.sign(sin) * np.pi/2\n",
    "  if sin == 0:\n",
    "    if cos > 0:\n",
    "      return 0\n",
    "    else:\n",
    "      return np.pi\n",
    "\n",
    "  angle = np.arctan(sin/cos)\n",
    "\n",
    "  if cos < 0:\n",
    "    angle = angle + np.pi\n",
    "\n",
    "  #angle = np.sign(cos) * np.arccos(cos)\n",
    "  return angle"
   ]
  },
  {
   "cell_type": "code",
   "execution_count": 12,
   "metadata": {
    "executionInfo": {
     "elapsed": 785,
     "status": "ok",
     "timestamp": 1617180643091,
     "user": {
      "displayName": "Aurélien Houdbert",
      "photoUrl": "https://lh3.googleusercontent.com/a-/AOh14GiC5IMv7-_P0TPgcMtb6Wq8rRrMC_U6BLG3zX_Y2g=s64",
      "userId": "12124528507416782011"
     },
     "user_tz": -120
    },
    "id": "hM4vDGStRsjv"
   },
   "outputs": [],
   "source": [
    "import cv2\n",
    "from scipy.ndimage import gaussian_filter\n",
    "from scipy.signal import convolve2d\n",
    "\n",
    "S1 = np.array([[-1, -2, -1],[0, 0, 0],[1, 2, 1]])\n",
    "S2 = S1.T\n",
    "sobel_S1 = convolve2d(image, S1, boundary='symm', mode='same')\n",
    "sobel_S2 = convolve2d(image, S2, boundary='symm', mode='same')\n",
    "#g_magnitude = np.sqrt(np.square(sobel_S1) + np.square(sobel_S2))\n",
    "g_magnitude = np.abs(sobel_S1) + np.abs(sobel_S2)"
   ]
  },
  {
   "cell_type": "code",
   "execution_count": 13,
   "metadata": {
    "executionInfo": {
     "elapsed": 825,
     "status": "ok",
     "timestamp": 1617180645325,
     "user": {
      "displayName": "Aurélien Houdbert",
      "photoUrl": "https://lh3.googleusercontent.com/a-/AOh14GiC5IMv7-_P0TPgcMtb6Wq8rRrMC_U6BLG3zX_Y2g=s64",
      "userId": "12124528507416782011"
     },
     "user_tz": -120
    },
    "id": "JWr5AXKmtpIo"
   },
   "outputs": [],
   "source": [
    "# work in progress\n",
    "\n",
    "import cv2\n",
    "\n",
    "#img = \n",
    "#sobelx = cv.Sobel(img,cv.CV_64F,1,0,ksize=5)\n",
    "#sobely = cv.Sobel(img,cv.CV_64F,0,1,ksize=5)\n",
    "#g_magnitude = np.sqrt(np.square(sobelx) + np.square(sobely))\n",
    "\n",
    "def g(g_magnitude, x):\n",
    "  \"\"\"\n",
    "  Computes the \n",
    "\n",
    "  \"\"\"\n",
    "  g = 1/(1 + g_magnitude[x[0], x[1]])\n",
    "\n",
    "  return g"
   ]
  },
  {
   "cell_type": "code",
   "execution_count": 14,
   "metadata": {
    "colab": {
     "base_uri": "https://localhost:8080/"
    },
    "executionInfo": {
     "elapsed": 774,
     "status": "ok",
     "timestamp": 1617180645704,
     "user": {
      "displayName": "Aurélien Houdbert",
      "photoUrl": "https://lh3.googleusercontent.com/a-/AOh14GiC5IMv7-_P0TPgcMtb6Wq8rRrMC_U6BLG3zX_Y2g=s64",
      "userId": "12124528507416782011"
     },
     "user_tz": -120
    },
    "id": "P1-fbK9ByJj3",
    "outputId": "8ef4888c-deb6-4012-b2a0-c149467923f1"
   },
   "outputs": [
    {
     "name": "stdout",
     "output_type": "stream",
     "text": [
      "4.0\n"
     ]
    }
   ],
   "source": [
    "def denominator_weight(p, q):\n",
    "  \"\"\"\n",
    "  Computes de denominator weight between between two pixels p and q\n",
    "\n",
    "  \"\"\"\n",
    "  weight = np.sum(np.abs(q-p))\n",
    "  return weight\n",
    "\n",
    "print('{:.1F}'.format(denominator_weight(np.array([1,2]), np.array([5,2]))))"
   ]
  },
  {
   "cell_type": "code",
   "execution_count": 15,
   "metadata": {
    "executionInfo": {
     "elapsed": 570,
     "status": "ok",
     "timestamp": 1617180647000,
     "user": {
      "displayName": "Aurélien Houdbert",
      "photoUrl": "https://lh3.googleusercontent.com/a-/AOh14GiC5IMv7-_P0TPgcMtb6Wq8rRrMC_U6BLG3zX_Y2g=s64",
      "userId": "12124528507416782011"
     },
     "user_tz": -120
    },
    "id": "oB9zdpY6UkvN"
   },
   "outputs": [],
   "source": [
    "def numerator_weights(p, q, nu, lambd):\n",
    "  dist_p_q = denominator_weight(p, q)\n",
    "  weight_1 = 0.5 * dist_p_q * (g(g_magnitude, p) + g(g_magnitude, q))\n",
    "  weight_2 = nu * dist_p_q\n",
    "  return weight_1, weight_2, lambd, dist_p_q\n",
    "\n",
    "def angle_diff(p, q, s, Shape):\n",
    "  value = tangent_angle(Shape, s) - phi_angle(p, q)\n",
    "  weight = min(value**2, (2 * np.pi - value)**2)\n",
    "  #weight = np.square(tangent_angle(Shape, s) - phi_angle(p, q))\n",
    "  return weight"
   ]
  },
  {
   "cell_type": "code",
   "execution_count": 16,
   "metadata": {
    "executionInfo": {
     "elapsed": 1145,
     "status": "ok",
     "timestamp": 1617180647953,
     "user": {
      "displayName": "Aurélien Houdbert",
      "photoUrl": "https://lh3.googleusercontent.com/a-/AOh14GiC5IMv7-_P0TPgcMtb6Wq8rRrMC_U6BLG3zX_Y2g=s64",
      "userId": "12124528507416782011"
     },
     "user_tz": -120
    },
    "id": "nerku6DlAfRu"
   },
   "outputs": [],
   "source": [
    "def check_cycles(parent, Shape, K, nu, lambd):\n",
    "  best_cycle_weight = 0\n",
    "  is_cycle = False\n",
    "  best_coordinates = (None, None, None)\n",
    "  height, width = parent.shape[1], parent.shape[2]\n",
    "\n",
    "  for s in range(K):\n",
    "    parent_layer = s * K\n",
    "    for i in range(height):\n",
    "      for j in range(width):\n",
    "        layer, row, col = parent[parent_layer, i, j]\n",
    "        if layer < (K * len(Shape)):\n",
    "          new_layer, new_row, new_col = layer, row, col\n",
    "          for k in range(K * len(Shape)):\n",
    "            new_layer, new_row, new_col = parent[new_layer, new_row, new_col]\n",
    "            if new_layer > K * len(Shape):\n",
    "              break\n",
    "            if [new_layer, new_row, new_col] == [parent_layer, i, j]:\n",
    "              #print('Found negative cycle')\n",
    "              cycle_weights = compute_cycle_weight_components(parent, parent_layer, i, j, Shape, K, nu, lambd)\n",
    "              cycle_weight = cycle_weights[0] - tau * cycle_weights[1]\n",
    "              if cycle_weight < best_cycle_weight:\n",
    "                best_cycle_weight = cycle_weight\n",
    "                is_cycle = True\n",
    "                best_coordinates = (parent_layer, i, j)\n",
    "              #return True, parent_layer, i, j\n",
    "  return is_cycle, best_coordinates\n",
    "\n",
    "def compute_cycle_weight_components(parent, layer, row, col, Shape, K, nu, lambd):\n",
    "  #height, width = parent.shape[1], parent.shape[2]\n",
    "  init_layer, init_row, init_col = layer, row, col\n",
    "  is_cycle = False\n",
    "  numerator_tot = 0\n",
    "  denominator_tot = 0\n",
    "\n",
    "  while not is_cycle:\n",
    "    #print(layer, row, col)\n",
    "    parent_layer, parent_row, parent_col = parent[layer, row, col]\n",
    "    parent_s = parent_layer // K\n",
    "    s = layer // K\n",
    "\n",
    "    q = np.array([row, col])\n",
    "    p = np.array([parent_row, parent_col])\n",
    "    weight_1, weight_2, lambd, dist_p_q = numerator_weights(p, q, nu = nu, lambd = lambd)\n",
    "    if parent_s == s:\n",
    "      angle_d = angle_diff(p, q, parent_s, Shape)\n",
    "      numerator_tot += weight_1 + (weight_2 * angle_d) + lambd\n",
    "      denominator_tot += dist_p_q\n",
    "    else:\n",
    "      skip = s - parent_s\n",
    "      if skip < 0:\n",
    "        skip = skip + len(Shape)\n",
    "      min_angle_diff_list = []\n",
    "      for point in range(parent_s, parent_s+skip):\n",
    "        min_angle_diff_list.append(angle_diff(p, q, point % len(Shape), Shape)) # compute all angles from 0 to current\n",
    "      min_angle = min(min_angle_diff_list)\n",
    "      numerator_tot += weight_1 + (weight_2 * min_angle) + (skip - 1) * lambd\n",
    "      denominator_tot += dist_p_q\n",
    "\n",
    "    layer, row, col = parent_layer, parent_row, parent_col\n",
    "    #print(numerator_tot, denominator_tot)\n",
    "    \n",
    "    if [layer, row, col] == [init_layer, init_row, init_col]:\n",
    "      is_cycle = True\n",
    "\n",
    "  return numerator_tot, denominator_tot\n",
    "\n",
    "def compute_distance_queue(height, width, Shape, tho=2, K=3, nu=0.25, lambd=0.25):\n",
    "  Shape_length = len(Shape)\n",
    "  distance_tensor = np.full((Shape_length * K, height, width), np.inf)\n",
    "  distance_tensor[0, 2, 2] = 0\n",
    "  #parent = np.zeros((Shape_length * K, 6, 6, 3))\n",
    "  parent = np.random.randint(Shape_length * K + 10, Shape_length * K + 100, (Shape_length * K, height, width, 3))\n",
    "\n",
    "  queue = []\n",
    "\n",
    "  source = [0, 2, 2]\n",
    "\n",
    "  queue = [source]\n",
    "  queue_set = set([tuple(source)])\n",
    "\n",
    "\n",
    "  for iteration in range(100000):\n",
    "    if len(queue) == 0:\n",
    "      print(f\"no negative cycles found after {iteration}\")\n",
    "      break\n",
    "    current_node = queue.pop()\n",
    "    row = current_node[1]\n",
    "    col = current_node[2]\n",
    "    layer = current_node[0]\n",
    "    queue_set.remove(tuple(current_node))\n",
    "\n",
    "    for e1 in range(-1 if row != 0 else 0, 2 if row != (height -1) else 1): # loop over rows\n",
    "      for e2 in range(-1 if col != 0 else 0, 2 if col != (width - 1) else 1): # loop over cols\n",
    "        if e1 != 0 or e2 != 0:\n",
    "          q = np.array([row + e1, col + e2])\n",
    "          p = np.array([row, col])\n",
    "          weight_1, weight_2, lambd, dist_p_q = numerator_weights(p, q, nu = nu, lambd = lambd)\n",
    "          s = layer // K\n",
    "\n",
    "          # Faire attention au cas ou on est sur une layer K - 1\n",
    "          if (layer % K) != (K-1):\n",
    "            distance_dest = distance_tensor[layer+1, row + e1, col + e2] # Distance of the destination of the edge\n",
    "            distance_src = distance_tensor[layer, row, col] # Distance of the source of the edge\n",
    "\n",
    "            angle_d = angle_diff(p, q, s, Shape) # On peut meme calculer phi à part et toutes les tangentes dans une liste\n",
    "            edge_weight = weight_1 + (weight_2 * angle_d) + lambd - (tho * dist_p_q)\n",
    "\n",
    "            if (distance_src != np.inf and distance_src + edge_weight < distance_dest):\n",
    "              distance_tensor[layer+1, row + e1, col + e2] = distance_src + edge_weight\n",
    "              parent[layer+1, row + e1, col + e2] = np.array([layer, row, col])\n",
    "              new_node = [layer+1, row + e1, col + e2]\n",
    "              #if new_node not in queue:\n",
    "              if tuple(new_node) not in queue_set:\n",
    "                queue = [new_node] + queue\n",
    "                queue_set.add(tuple(new_node))\n",
    "\n",
    "          # Peut toujours être calculé sauf en derniere layer (je crois)\n",
    "          # Tout faire en modulo %30\n",
    "          # if layer != Shape_length * K:\n",
    "          min_angle_diff_list = []\n",
    "          #for point in range(s, Shape_length):\n",
    "          for point in range(s, s+K):\n",
    "            min_angle_diff_list.append(angle_diff(p, q, point % Shape_length, Shape)) # compute all angles from 0 to current\n",
    "          \n",
    "          #for point in range(s+1, Shape_length):\n",
    "          for point in range(s+1, s+K+1):\n",
    "            skip = point - s\n",
    "            distance_dest = distance_tensor[(point * K) % (Shape_length * K), row + e1, col + e2] # modulo\n",
    "            distance_src = distance_tensor[layer, row, col]\n",
    "            min_angle = min(min_angle_diff_list[:skip])\n",
    "            edge_weight_cut = weight_1 + (weight_2 * min_angle) + (skip - 1) * lambd - (tho * dist_p_q)\n",
    "            if (distance_src != np.inf and distance_src + edge_weight_cut < distance_dest):\n",
    "              distance_tensor[(point * K) % (Shape_length * K), row + e1, col + e2] = distance_src + edge_weight_cut # modulo\n",
    "              parent[(point * K) % (Shape_length * K), row + e1, col + e2] = np.array([layer, row, col]) # modulo\n",
    "              new_node = [(point * K) % (Shape_length * K), row + e1, col + e2]\n",
    "              #if new_node not in queue:\n",
    "              if tuple(new_node) not in queue_set:\n",
    "                queue = [new_node] + queue\n",
    "                queue_set.add(tuple(new_node))\n",
    "\n",
    "    #print('Length of the queue: ', format(len(queue)))\n",
    "\n",
    "    if (iteration+1) % 1000 == 0:# and np.sum(parent > 29) == 0:\n",
    "      #print('Looking for cycles [...]')\n",
    "      is_cycle, (parent_layer, coord_row, coord_col) = check_cycles(parent.astype(np.int), Shape, K, nu, lambd)\n",
    "      if is_cycle:\n",
    "        #print('Stopped because found negative cycle')\n",
    "        #print(parent_layer, coord_row, coord_col)\n",
    "        return distance_tensor, parent, is_cycle, parent_layer, coord_row, coord_col\n",
    "      #print('Cycles not found, continuing updating distances')\n",
    "    #elif (iteration+1) % 1000 == 0 and np.sum(parent > 29) > 0:\n",
    "    #  print('parent > 29')\n",
    "      #return distance_tensor, parent\n",
    "  print('Reached end of loop...')\n",
    "  return distance_tensor, parent, False, None, None, None"
   ]
  },
  {
   "cell_type": "code",
   "execution_count": 17,
   "metadata": {
    "executionInfo": {
     "elapsed": 1502,
     "status": "ok",
     "timestamp": 1617180650250,
     "user": {
      "displayName": "Aurélien Houdbert",
      "photoUrl": "https://lh3.googleusercontent.com/a-/AOh14GiC5IMv7-_P0TPgcMtb6Wq8rRrMC_U6BLG3zX_Y2g=s64",
      "userId": "12124528507416782011"
     },
     "user_tz": -120
    },
    "id": "1e-dZovqU1AX"
   },
   "outputs": [],
   "source": [
    "def retrive_cycle(parent, layer, row, col):\n",
    "  init_layer, init_row, init_col = layer, row, col\n",
    "  list_coord = [[init_layer, init_row, init_col]]\n",
    "  is_cycle = False\n",
    "\n",
    "  while not is_cycle:\n",
    "    layer, row, col = parent[layer, row, col]\n",
    "    list_coord.append([layer, row, col])\n",
    "    #layer, row, col = parent_layer, parent_row, parent_col\n",
    "    \n",
    "    if [layer, row, col] == [init_layer, init_row, init_col]:\n",
    "      is_cycle = True\n",
    "\n",
    "  return list_coord[:-1]\n",
    "\n",
    "def retrive_cycle_v2(parent, layer, row, col, Shape, K, nu, lambd):\n",
    "  #height, width = parent.shape[1], parent.shape[2]\n",
    "  init_layer, init_row, init_col = layer, row, col\n",
    "  is_cycle = False\n",
    "  numerator_tot = 0\n",
    "  denominator_tot = 0\n",
    "\n",
    "  while not is_cycle:\n",
    "    #print(layer, row, col)\n",
    "    parent_layer, parent_row, parent_col = parent[layer, row, col]\n",
    "    parent_s = parent_layer // K\n",
    "    s = layer // K\n",
    "\n",
    "    numerator = 0\n",
    "    denominator = 0\n",
    "\n",
    "    q = np.array([row, col])\n",
    "    p = np.array([parent_row, parent_col])\n",
    "    weight_1, weight_2, lambd, dist_p_q = numerator_weights(p, q, nu = nu, lambd = lambd)\n",
    "    if parent_s == s:\n",
    "      angle_d = angle_diff(p, q, parent_s, Shape)\n",
    "      numerator = weight_1 + (weight_2 * angle_d) + lambd\n",
    "      denominator = dist_p_q\n",
    "      numerator_tot += numerator\n",
    "      denominator_tot += denominator\n",
    "      print(f'weight type 1, [{parent_layer},{parent_row},{parent_col}] --> [{layer},{row},{col}]: {angle_d}')\n",
    "\n",
    "    else:\n",
    "      skip = s - parent_s\n",
    "      if skip < 0:\n",
    "        skip = skip + len(Shape)\n",
    "      min_angle_diff_list = []\n",
    "      for point in range(parent_s, parent_s+skip):\n",
    "        min_angle_diff_list.append(angle_diff(p, q, point % len(Shape), Shape)) # compute all angles from 0 to current\n",
    "      min_angle = min(min_angle_diff_list)\n",
    "      numerator = weight_1 + (weight_2 * min_angle) + (skip - 1) * lambd\n",
    "      denominator = dist_p_q\n",
    "      numerator_tot += numerator\n",
    "      denominator_tot += denominator\n",
    "      print(f'weight type 2, [{parent_layer},{parent_row},{parent_col}] --> [{layer},{row},{col}]: {min_angle}')\n",
    "\n",
    "    layer, row, col = parent_layer, parent_row, parent_col\n",
    "    #print(numerator_tot, denominator_tot)\n",
    "    \n",
    "    if [layer, row, col] == [init_layer, init_row, init_col]:\n",
    "      is_cycle = True\n",
    "  \n",
    "  return numerator_tot, denominator_tot"
   ]
  },
  {
   "cell_type": "markdown",
   "metadata": {
    "id": "WUaDXGK8e6aw"
   },
   "source": [
    "# Tests"
   ]
  },
  {
   "cell_type": "code",
   "execution_count": 23,
   "metadata": {
    "id": "5B9EtJqrfehz"
   },
   "outputs": [],
   "source": [
    "Shape_array = create_square(10, 6, (2,2), fill=False)\n",
    "image = create_square(10, 4, (3, 3), fill=True)\n",
    "Shape = create_shape_path((2,2), 6)"
   ]
  },
  {
   "cell_type": "code",
   "execution_count": 24,
   "metadata": {
    "id": "0ZomWsW4fZud"
   },
   "outputs": [],
   "source": [
    "import cv2\n",
    "from scipy.ndimage import gaussian_filter\n",
    "from scipy.signal import convolve2d\n",
    "\n",
    "S1 = np.array([[-1, -2, -1],[0, 0, 0],[1, 2, 1]])\n",
    "S2 = S1.T\n",
    "sobel_S1 = convolve2d(image, S1, boundary='symm', mode='same')\n",
    "sobel_S2 = convolve2d(image, S2, boundary='symm', mode='same')\n",
    "#g_magnitude = np.sqrt(np.square(sobel_S1) + np.square(sobel_S2))\n",
    "g_magnitude = np.abs(sobel_S1) + np.abs(sobel_S2)"
   ]
  },
  {
   "cell_type": "code",
   "execution_count": 25,
   "metadata": {
    "colab": {
     "base_uri": "https://localhost:8080/"
    },
    "id": "CMzwHBWJMHKp",
    "outputId": "2c88c6f7-56b4-4e48-c51f-5244db7f7119"
   },
   "outputs": [
    {
     "name": "stdout",
     "output_type": "stream",
     "text": [
      "Tau -> 0.4517217491870921, cycle weight -> -16.448347524387238, False\n",
      "3 4 2\n",
      "Tau -> 0.29036632327721384, cycle weight -> -3.227108518197566, False\n",
      "3 3 2\n",
      "Tau -> 0.24821428571428572, cycle weight -> -0.67443260100685, False\n",
      "0 3 2\n",
      "Tau -> 0.23624338624338628, cycle weight -> -0.21547619047619015, False\n",
      "3 3 2\n",
      "Tau -> 0.2266666666666667, cycle weight -> -0.19153439153439145, False\n",
      "0 2 2\n",
      "Reached end of loop...\n",
      "No negative cycles found. Last tau 0.2266666666666667\n"
     ]
    }
   ],
   "source": [
    "tau = 1\n",
    "K = 3\n",
    "nu = 0.25\n",
    "lambd = 0.25\n",
    "height = Shape_array.shape[0]\n",
    "width = Shape_array.shape[1]\n",
    "isNegCycle = True\n",
    "while isNegCycle:\n",
    "  _, parent, isNegCycle, parent_layer, coord_row, coord_col = compute_distance_queue(height, width, Shape, tho=tau, K=K, nu=nu, lambd=lambd)\n",
    "  if isNegCycle:\n",
    "    last_parent = parent\n",
    "    numerator, denominator = compute_cycle_weight_components(parent.astype(np.int), parent_layer, coord_row, coord_col, Shape, K, nu, lambd)\n",
    "    last_tau = tau\n",
    "    tau = numerator/denominator\n",
    "    print(f'Tau -> {tau}, cycle weight -> {numerator - last_tau * denominator}, {last_tau == tau}')\n",
    "    print(parent_layer, coord_row, coord_col)\n",
    "print(f'No negative cycles found. Last tau {tau}')"
   ]
  },
  {
   "cell_type": "code",
   "execution_count": 27,
   "metadata": {
    "colab": {
     "base_uri": "https://localhost:8080/"
    },
    "executionInfo": {
     "elapsed": 994,
     "status": "ok",
     "timestamp": 1617134675626,
     "user": {
      "displayName": "Aurélien Houdbert",
      "photoUrl": "https://lh3.googleusercontent.com/a-/AOh14GiC5IMv7-_P0TPgcMtb6Wq8rRrMC_U6BLG3zX_Y2g=s64",
      "userId": "12124528507416782011"
     },
     "user_tz": -120
    },
    "id": "MTEgmQfBehKT",
    "outputId": "d5bb3674-873d-49a9-b7a2-85eb8b30e257"
   },
   "outputs": [
    {
     "name": "stdout",
     "output_type": "stream",
     "text": [
      "weight type 2, [57,2,3] --> [0,2,2]: 0.0\n",
      "weight type 2, [54,2,4] --> [57,2,3]: 0.0\n",
      "weight type 2, [51,2,5] --> [54,2,4]: 0.0\n",
      "weight type 2, [48,2,6] --> [51,2,5]: 0.0\n",
      "weight type 2, [45,2,7] --> [48,2,6]: 0.0\n",
      "weight type 2, [42,3,7] --> [45,2,7]: 0.0\n",
      "weight type 2, [39,4,7] --> [42,3,7]: 0.0\n",
      "weight type 2, [36,5,7] --> [39,4,7]: 0.0\n",
      "weight type 2, [33,6,7] --> [36,5,7]: 0.0\n",
      "weight type 2, [30,7,7] --> [33,6,7]: 0.0\n",
      "weight type 2, [27,7,6] --> [30,7,7]: 0\n",
      "weight type 2, [24,7,5] --> [27,7,6]: 0\n",
      "weight type 2, [21,7,4] --> [24,7,5]: 0\n",
      "weight type 2, [18,7,3] --> [21,7,4]: 0\n",
      "weight type 2, [15,7,2] --> [18,7,3]: 0\n",
      "weight type 2, [12,6,2] --> [15,7,2]: 0.0\n",
      "weight type 2, [9,5,2] --> [12,6,2]: 0.0\n",
      "weight type 2, [6,4,2] --> [9,5,2]: 0.0\n",
      "weight type 2, [3,3,2] --> [6,4,2]: 0.0\n",
      "weight type 2, [0,2,2] --> [3,3,2]: 0.0\n"
     ]
    },
    {
     "data": {
      "text/plain": [
       "(4.533333333333334, 20)"
      ]
     },
     "execution_count": 27,
     "metadata": {},
     "output_type": "execute_result"
    }
   ],
   "source": [
    "retrive_cycle_v2(last_parent.astype(np.int), 0, 2, 2, Shape, K, nu, lambd)"
   ]
  },
  {
   "cell_type": "code",
   "execution_count": 28,
   "metadata": {
    "id": "pspgEx8DDWcx"
   },
   "outputs": [],
   "source": [
    "def create_image(parent, image, layer, row, col):\n",
    "  contour = np.zeros(image.shape)\n",
    "  points = retrive_cycle(last_parent.astype(np.int), layer, row, col)\n",
    "  for point in points:\n",
    "    contour[point[1], point[2]] = 1\n",
    "  return contour"
   ]
  },
  {
   "cell_type": "code",
   "execution_count": 29,
   "metadata": {
    "colab": {
     "base_uri": "https://localhost:8080/",
     "height": 265
    },
    "executionInfo": {
     "elapsed": 537,
     "status": "ok",
     "timestamp": 1617134782696,
     "user": {
      "displayName": "Aurélien Houdbert",
      "photoUrl": "https://lh3.googleusercontent.com/a-/AOh14GiC5IMv7-_P0TPgcMtb6Wq8rRrMC_U6BLG3zX_Y2g=s64",
      "userId": "12124528507416782011"
     },
     "user_tz": -120
    },
    "id": "hnT0pUexD1Uz",
    "outputId": "bf3107ef-e94d-44ed-827d-87c9b54f218d"
   },
   "outputs": [
    {
     "data": {
      "image/png": "[encoded data removed]",
      "text/plain": [
       "<Figure size 432x288 with 1 Axes>"
      ]
     },
     "metadata": {
      "needs_background": "light"
     },
     "output_type": "display_data"
    }
   ],
   "source": [
    "contour = create_image(last_parent.astype(np.int), image, 0, 2, 2)\n",
    "plt.imshow(contour, cmap='gray')\n",
    "plt.show()"
   ]
  },
  {
   "cell_type": "code",
   "execution_count": 30,
   "metadata": {},
   "outputs": [
    {
     "data": {
      "text/plain": [
       "<matplotlib.image.AxesImage at 0x1cdde3e9a48>"
      ]
     },
     "execution_count": 30,
     "metadata": {},
     "output_type": "execute_result"
    },
    {
     "data": {
      "image/png": "[encoded data removed]",
      "text/plain": [
       "<Figure size 432x288 with 1 Axes>"
      ]
     },
     "metadata": {
      "needs_background": "light"
     },
     "output_type": "display_data"
    }
   ],
   "source": [
    "final_shape = np.zeros((Shape_array.shape[0], Shape_array.shape[1], 3), dtype = np.int)\n",
    "final_shape[Shape_array == 1] = np.array([0, 255, 0])\n",
    "final_shape[Shape_array == 0] = np.array([255, 255, 255])\n",
    "plt.imshow(final_shape)\n",
    "plt.show()"
   ]
  },
  {
   "cell_type": "code",
   "execution_count": 31,
   "metadata": {},
   "outputs": [
    {
     "data": {
      "text/plain": [
       "<matplotlib.image.AxesImage at 0x1cdde455f08>"
      ]
     },
     "execution_count": 31,
     "metadata": {},
     "output_type": "execute_result"
    },
    {
     "data": {
      "image/png": "[encoded data removed]",
      "text/plain": [
       "<Figure size 432x288 with 1 Axes>"
      ]
     },
     "metadata": {
      "needs_background": "light"
     },
     "output_type": "display_data"
    }
   ],
   "source": [
    "final_image = np.zeros((Shape_array.shape[0], Shape_array.shape[1], 3), dtype = np.int)\n",
    "final_image[image == 1] = np.array([0,0,255])\n",
    "final_image[image == 0] = np.array([255, 255, 255])\n",
    "plt.imshow(final_image)\n",
    "plt.show()"
   ]
  },
  {
   "cell_type": "code",
   "execution_count": 32,
   "metadata": {},
   "outputs": [
    {
     "data": {
      "image/png": "[encoded data removed]",
      "text/plain": [
       "<Figure size 432x288 with 1 Axes>"
      ]
     },
     "metadata": {
      "needs_background": "light"
     },
     "output_type": "display_data"
    }
   ],
   "source": [
    "detection = np.zeros((Shape_array.shape[0], Shape_array.shape[1], 3), dtype = np.int)\n",
    "detection[contour == 1] = np.array([255,0,0])\n",
    "detection[contour == 0] = np.array([255, 255, 255])\n",
    "plt.imshow(detection)\n",
    "plt.show()"
   ]
  },
  {
   "cell_type": "code",
   "execution_count": 33,
   "metadata": {},
   "outputs": [
    {
     "data": {
      "image/png": "[encoded data removed]",
      "text/plain": [
       "<Figure size 1152x432 with 3 Axes>"
      ]
     },
     "metadata": {
      "needs_background": "light"
     },
     "output_type": "display_data"
    }
   ],
   "source": [
    "fig, ax = plt.subplots(1, 3, figsize = (16, 6))\n",
    "\n",
    "ax[0].imshow(final_shape)\n",
    "\n",
    "ax[1].imshow(final_image)\n",
    "\n",
    "ax[2].imshow(detection)\n",
    "\n",
    "#plt.savefig('Square_smaller_size.jpg')\n",
    "plt.show()"
   ]
  },
  {
   "cell_type": "code",
   "execution_count": null,
   "metadata": {},
   "outputs": [],
   "source": []
  }
 ],
 "metadata": {
  "colab": {
   "collapsed_sections": [],
   "name": "Untitled0.ipynb",
   "provenance": []
  },
  "kernelspec": {
   "display_name": "Python 3",
   "language": "python",
   "name": "python3"
  },
  "language_info": {
   "codemirror_mode": {
    "name": "ipython",
    "version": 3
   },
   "file_extension": ".py",
   "mimetype": "text/x-python",
   "name": "python",
   "nbconvert_exporter": "python",
   "pygments_lexer": "ipython3",
   "version": "3.7.6"
  }
 },
 "nbformat": 4,
 "nbformat_minor": 4
}
